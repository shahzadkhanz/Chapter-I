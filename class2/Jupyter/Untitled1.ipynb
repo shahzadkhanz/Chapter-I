{
 "cells": [
  {
   "cell_type": "code",
   "execution_count": 2,
   "id": "7447c5cf",
   "metadata": {},
   "outputs": [],
   "source": [
    "name = 'S Khan'\n",
    "university = \"Hamdard University\"\n",
    "department = \"Managament Sciences\"\n",
    "reg_no = 2000588"
   ]
  },
  {
   "cell_type": "code",
   "execution_count": 3,
   "id": "e543586e",
   "metadata": {},
   "outputs": [
    {
     "name": "stdout",
     "output_type": "stream",
     "text": [
      "S Khan\n"
     ]
    }
   ],
   "source": [
    "print(name)"
   ]
  },
  {
   "cell_type": "code",
   "execution_count": 4,
   "id": "cc6e8e29",
   "metadata": {},
   "outputs": [
    {
     "name": "stdout",
     "output_type": "stream",
     "text": [
      "\n",
      "name = S Khan\n",
      "university = Hamdard University\n",
      "department = Managament Sciences\n",
      "reg_no = 2000588\n"
     ]
    }
   ],
   "source": [
    "admit_card = f\"\"\"\n",
    "name = {name}\n",
    "university = {university}\n",
    "department = {department}\n",
    "reg_no = {reg_no}\"\"\"\n",
    "print(admit_card)"
   ]
  },
  {
   "cell_type": "code",
   "execution_count": null,
   "id": "d9db32e9",
   "metadata": {},
   "outputs": [],
   "source": [
    "operators\n",
    "= assign value\n",
    "+ addition\n",
    "- substraction\n",
    "* multiplication\n",
    "/ division\n",
    "% modulas\n",
    "// flood division\n",
    "\n",
    "assign / arthematic / comparative\n",
    "expresssion vs statement (difference between Assignment)\n"
   ]
  },
  {
   "cell_type": "code",
   "execution_count": null,
   "id": "0ffb413c",
   "metadata": {},
   "outputs": [],
   "source": [
    "# expression vs statement (python naming conventions) Assignment"
   ]
  },
  {
   "cell_type": "code",
   "execution_count": 6,
   "id": "b98b5669",
   "metadata": {},
   "outputs": [],
   "source": [
    "## Assign Operator"
   ]
  },
  {
   "cell_type": "code",
   "execution_count": null,
   "id": "cb438c89",
   "metadata": {},
   "outputs": [],
   "source": [
    "# variable_name = value\n",
    "# "
   ]
  },
  {
   "cell_type": "code",
   "execution_count": 11,
   "id": "5fda9fc1",
   "metadata": {},
   "outputs": [],
   "source": [
    "teacher_name = \"Muhammad Qasim\"\n",
    "teacher_name = 'Muhammad Qasim'\n",
    "teacher_name = \"\"\"Muhammad Qasim\"\"\"\n",
    "teacher_name = '''Muhammad Qasim'''"
   ]
  },
  {
   "cell_type": "code",
   "execution_count": 12,
   "id": "1891cb9e",
   "metadata": {},
   "outputs": [
    {
     "name": "stdout",
     "output_type": "stream",
     "text": [
      "Muhammad Qasim\n",
      "<class 'str'>\n",
      "2100497120688\n"
     ]
    }
   ],
   "source": [
    "print(teacher_name)\n",
    "print(type(teacher_name))\n",
    "print(id(teacher_name))"
   ]
  },
  {
   "cell_type": "code",
   "execution_count": 14,
   "id": "ed606d6f",
   "metadata": {},
   "outputs": [],
   "source": [
    "t1 = \"Muhammad Qasim\"\n",
    "t2 = 'Muhammad Qasim'"
   ]
  },
  {
   "cell_type": "code",
   "execution_count": 18,
   "id": "b4a85747",
   "metadata": {},
   "outputs": [
    {
     "name": "stdout",
     "output_type": "stream",
     "text": [
      "Muhammad Qasim\n",
      "<class 'str'>\n",
      "2100497147120\n",
      "Muhammad Qasim\n",
      "<class 'str'>\n",
      "2100497145968\n"
     ]
    }
   ],
   "source": [
    "print(t1)\n",
    "print(type(t1))\n",
    "print(id(t1))\n",
    "\n",
    "print(t2)\n",
    "print(type(t2))\n",
    "print(id(t2))"
   ]
  },
  {
   "cell_type": "code",
   "execution_count": null,
   "id": "980912ca",
   "metadata": {},
   "outputs": [],
   "source": [
    "nick_name = Shallow Copy\n",
    "original_name = Deep Copy "
   ]
  },
  {
   "cell_type": "code",
   "execution_count": 19,
   "id": "5375c667",
   "metadata": {},
   "outputs": [
    {
     "name": "stdout",
     "output_type": "stream",
     "text": [
      "15\n"
     ]
    }
   ],
   "source": [
    "num1 = 10 # int\n",
    "num2 = 5 # int\n",
    "print(num1 + num2) # result int"
   ]
  },
  {
   "cell_type": "code",
   "execution_count": 20,
   "id": "5bd5d88f",
   "metadata": {},
   "outputs": [
    {
     "name": "stdout",
     "output_type": "stream",
     "text": [
      "15.2\n"
     ]
    }
   ],
   "source": [
    "num1 = 10.2 # float\n",
    "num2 = 5 # int\n",
    "print(num1 + num2) # result float"
   ]
  },
  {
   "cell_type": "code",
   "execution_count": 21,
   "id": "786384d4",
   "metadata": {},
   "outputs": [
    {
     "name": "stdout",
     "output_type": "stream",
     "text": [
      "15.2\n",
      "<class 'float'>\n"
     ]
    }
   ],
   "source": [
    "num1 = 10.2 # float\n",
    "num2 = 5 # int\n",
    "result = (num1 + num2) # result float\n",
    "print(result)\n",
    "print(type(result))"
   ]
  },
  {
   "cell_type": "code",
   "execution_count": 23,
   "id": "e49fd062",
   "metadata": {},
   "outputs": [
    {
     "name": "stdout",
     "output_type": "stream",
     "text": [
      "5\n"
     ]
    }
   ],
   "source": [
    "num1 = 10 # float\n",
    "num2 = 5 # int\n",
    "print(num1 - num2) # result float"
   ]
  },
  {
   "cell_type": "code",
   "execution_count": 24,
   "id": "aa4878fb",
   "metadata": {},
   "outputs": [
    {
     "name": "stdout",
     "output_type": "stream",
     "text": [
      "50\n"
     ]
    }
   ],
   "source": [
    "num1 = 10 # float\n",
    "num2 = 5 # int\n",
    "print(num1 * num2) # result float"
   ]
  },
  {
   "cell_type": "code",
   "execution_count": 25,
   "id": "7aef072b",
   "metadata": {},
   "outputs": [
    {
     "name": "stdout",
     "output_type": "stream",
     "text": [
      "2.0\n"
     ]
    }
   ],
   "source": [
    "num1 = 10 # float\n",
    "num2 = 5 # int\n",
    "print(num1 / num2) # result float"
   ]
  },
  {
   "cell_type": "code",
   "execution_count": null,
   "id": "caf5db3e",
   "metadata": {},
   "outputs": [],
   "source": []
  }
 ],
 "metadata": {
  "kernelspec": {
   "display_name": "Python 3 (ipykernel)",
   "language": "python",
   "name": "python3"
  },
  "language_info": {
   "codemirror_mode": {
    "name": "ipython",
    "version": 3
   },
   "file_extension": ".py",
   "mimetype": "text/x-python",
   "name": "python",
   "nbconvert_exporter": "python",
   "pygments_lexer": "ipython3",
   "version": "3.9.12"
  }
 },
 "nbformat": 4,
 "nbformat_minor": 5
}
