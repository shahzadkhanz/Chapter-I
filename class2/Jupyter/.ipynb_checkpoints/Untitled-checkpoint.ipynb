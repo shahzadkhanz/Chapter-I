{
 "cells": [
  {
   "cell_type": "markdown",
   "id": "bb7bc9ae",
   "metadata": {},
   "source": [
    "# RESUME"
   ]
  },
  {
   "cell_type": "code",
   "execution_count": 12,
   "id": "b2f1421e",
   "metadata": {},
   "outputs": [
    {
     "name": "stdout",
     "output_type": "stream",
     "text": [
      "-------------------Board of Intermediate----------------------\n",
      "Name: S Khan\n",
      "Father's Name: SS Khan\n",
      "Roll No. 202218\n",
      "Accounting:  82\n",
      "Maths:  77\n",
      "Islamiat:  70\n",
      "English:  82\n",
      "Pakistan Studies:  67\n",
      "Total Achieved Marks  378\n",
      "500 Total Marks\n",
      "(311.134, 'Percentage')\n"
     ]
    }
   ],
   "source": [
    "print(\"-------------------Board of Intermediate----------------------\")\n",
    "print(\"Name: S Khan\")\n",
    "print(\"Father's Name: SS Khan\")# str\n",
    "print(\"Roll No. 202218\")\n",
    "accounting = 82\n",
    "print(\"Accounting: \", accounting)\n",
    "maths = 77\n",
    "print(\"Maths: \", maths)\n",
    "islamiat = 70\n",
    "print(\"Islamiat: \", islamiat)#int\n",
    "english = 82\n",
    "print(\"English: \", english)\n",
    "pakistan_studies = 67\n",
    "print(\"Pakistan Studies: \", pakistan_studies)\n",
    "add = (accounting + maths + islamiat + english + pakistan_studies)\n",
    "print(\"Total Achieved Marks \", add)\n",
    "total_marks = 500\n",
    "print(total_marks, \"Total Marks\")\n",
    "per = (accounting + maths + islamiat + english + pakistan_studies / total_marks, \"Percentage\")\n",
    "print(per)\n",
    "\n",
    "\n"
   ]
  },
  {
   "cell_type": "code",
   "execution_count": 30,
   "id": "9e44886d",
   "metadata": {},
   "outputs": [
    {
     "data": {
      "text/plain": [
       "'Shahzad Khan'"
      ]
     },
     "execution_count": 30,
     "metadata": {},
     "output_type": "execute_result"
    }
   ],
   "source": [
    "first_name = \"Shahzad\"\n",
    "last_name = \"Khan\"\n",
    "first_name+\" \"+last_name"
   ]
  },
  {
   "cell_type": "code",
   "execution_count": null,
   "id": "0987d995",
   "metadata": {},
   "outputs": [],
   "source": [
    "Camel Case = firstName    (Java Script)\n",
    "Pascal Case = FirstName   (Java Script)\n",
    "lower case = first_name   (lower case)"
   ]
  },
  {
   "cell_type": "code",
   "execution_count": null,
   "id": "f7e5e0ee",
   "metadata": {},
   "outputs": [],
   "source": [
    "name1 = 'Shahzad'\n",
    "name2 = \"Shahzad\"\n",
    "name3 = '''Shahzad'''\n",
    "\n"
   ]
  },
  {
   "cell_type": "code",
   "execution_count": 34,
   "id": "e31f0b84",
   "metadata": {},
   "outputs": [],
   "source": [
    "name = 'S Khan'\n",
    "university = \"HIMS\"\n",
    "department = \"MBA Finance\"\n",
    "reg_no = 200258"
   ]
  },
  {
   "cell_type": "code",
   "execution_count": 35,
   "id": "9f04a986",
   "metadata": {},
   "outputs": [
    {
     "name": "stdout",
     "output_type": "stream",
     "text": [
      "\n",
      "Name: S Khan\n",
      "University: HIMS\n",
      "Department: MBA Finance\n",
      "Reg_no : 200258\n"
     ]
    }
   ],
   "source": [
    "admit_card = f\"\"\"\n",
    "Name: {name}\n",
    "University: {university}\n",
    "Department: {department}\n",
    "Reg_no : {reg_no}\"\"\"\n",
    "print(admit_card)"
   ]
  },
  {
   "cell_type": "code",
   "execution_count": null,
   "id": "380780d8",
   "metadata": {},
   "outputs": [],
   "source": []
  },
  {
   "cell_type": "code",
   "execution_count": null,
   "id": "ae96e763",
   "metadata": {},
   "outputs": [],
   "source": []
  }
 ],
 "metadata": {
  "kernelspec": {
   "display_name": "Python 3 (ipykernel)",
   "language": "python",
   "name": "python3"
  },
  "language_info": {
   "codemirror_mode": {
    "name": "ipython",
    "version": 3
   },
   "file_extension": ".py",
   "mimetype": "text/x-python",
   "name": "python",
   "nbconvert_exporter": "python",
   "pygments_lexer": "ipython3",
   "version": "3.9.12"
  }
 },
 "nbformat": 4,
 "nbformat_minor": 5
}
